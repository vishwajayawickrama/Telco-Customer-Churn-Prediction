{
 "cells": [
  {
   "cell_type": "code",
   "execution_count": 1,
   "id": "c8a6a839",
   "metadata": {},
   "outputs": [],
   "source": [
    "!pip install -q -r requirements.txt"
   ]
  },
  {
   "cell_type": "markdown",
   "id": "0f1416c3",
   "metadata": {},
   "source": [
    "# Initial Data Assesment"
   ]
  },
  {
   "cell_type": "markdown",
   "id": "26f1b610",
   "metadata": {},
   "source": [
    "### 1. Import Dependencies"
   ]
  },
  {
   "cell_type": "code",
   "execution_count": 1,
   "id": "fb2a7053",
   "metadata": {},
   "outputs": [],
   "source": [
    "import pandas as pd\n",
    "import numpy as np\n",
    "import seaborn as sns\n",
    "import matplotlib.pyplot as plt"
   ]
  },
  {
   "cell_type": "markdown",
   "id": "858e59a4",
   "metadata": {},
   "source": [
    "### 2. Import Data"
   ]
  },
  {
   "cell_type": "code",
   "execution_count": 2,
   "id": "32e235cd",
   "metadata": {},
   "outputs": [
    {
     "data": {
      "text/html": [
       "<div>\n",
       "<style scoped>\n",
       "    .dataframe tbody tr th:only-of-type {\n",
       "        vertical-align: middle;\n",
       "    }\n",
       "\n",
       "    .dataframe tbody tr th {\n",
       "        vertical-align: top;\n",
       "    }\n",
       "\n",
       "    .dataframe thead th {\n",
       "        text-align: right;\n",
       "    }\n",
       "</style>\n",
       "<table border=\"1\" class=\"dataframe\">\n",
       "  <thead>\n",
       "    <tr style=\"text-align: right;\">\n",
       "      <th></th>\n",
       "      <th>customerID</th>\n",
       "      <th>gender</th>\n",
       "      <th>SeniorCitizen</th>\n",
       "      <th>Partner</th>\n",
       "      <th>Dependents</th>\n",
       "      <th>tenure</th>\n",
       "      <th>PhoneService</th>\n",
       "      <th>MultipleLines</th>\n",
       "      <th>InternetService</th>\n",
       "      <th>OnlineSecurity</th>\n",
       "      <th>...</th>\n",
       "      <th>DeviceProtection</th>\n",
       "      <th>TechSupport</th>\n",
       "      <th>StreamingTV</th>\n",
       "      <th>StreamingMovies</th>\n",
       "      <th>Contract</th>\n",
       "      <th>PaperlessBilling</th>\n",
       "      <th>PaymentMethod</th>\n",
       "      <th>MonthlyCharges</th>\n",
       "      <th>TotalCharges</th>\n",
       "      <th>Churn</th>\n",
       "    </tr>\n",
       "  </thead>\n",
       "  <tbody>\n",
       "    <tr>\n",
       "      <th>0</th>\n",
       "      <td>7590-VHVEG</td>\n",
       "      <td>Female</td>\n",
       "      <td>0</td>\n",
       "      <td>Yes</td>\n",
       "      <td>No</td>\n",
       "      <td>1</td>\n",
       "      <td>No</td>\n",
       "      <td>No phone service</td>\n",
       "      <td>DSL</td>\n",
       "      <td>No</td>\n",
       "      <td>...</td>\n",
       "      <td>No</td>\n",
       "      <td>No</td>\n",
       "      <td>No</td>\n",
       "      <td>No</td>\n",
       "      <td>Month-to-month</td>\n",
       "      <td>Yes</td>\n",
       "      <td>Electronic check</td>\n",
       "      <td>29.85</td>\n",
       "      <td>29.85</td>\n",
       "      <td>No</td>\n",
       "    </tr>\n",
       "    <tr>\n",
       "      <th>1</th>\n",
       "      <td>5575-GNVDE</td>\n",
       "      <td>Male</td>\n",
       "      <td>0</td>\n",
       "      <td>No</td>\n",
       "      <td>No</td>\n",
       "      <td>34</td>\n",
       "      <td>Yes</td>\n",
       "      <td>No</td>\n",
       "      <td>DSL</td>\n",
       "      <td>Yes</td>\n",
       "      <td>...</td>\n",
       "      <td>Yes</td>\n",
       "      <td>No</td>\n",
       "      <td>No</td>\n",
       "      <td>No</td>\n",
       "      <td>One year</td>\n",
       "      <td>No</td>\n",
       "      <td>Mailed check</td>\n",
       "      <td>56.95</td>\n",
       "      <td>1889.5</td>\n",
       "      <td>No</td>\n",
       "    </tr>\n",
       "    <tr>\n",
       "      <th>2</th>\n",
       "      <td>3668-QPYBK</td>\n",
       "      <td>Male</td>\n",
       "      <td>0</td>\n",
       "      <td>No</td>\n",
       "      <td>No</td>\n",
       "      <td>2</td>\n",
       "      <td>Yes</td>\n",
       "      <td>No</td>\n",
       "      <td>DSL</td>\n",
       "      <td>Yes</td>\n",
       "      <td>...</td>\n",
       "      <td>No</td>\n",
       "      <td>No</td>\n",
       "      <td>No</td>\n",
       "      <td>No</td>\n",
       "      <td>Month-to-month</td>\n",
       "      <td>Yes</td>\n",
       "      <td>Mailed check</td>\n",
       "      <td>53.85</td>\n",
       "      <td>108.15</td>\n",
       "      <td>Yes</td>\n",
       "    </tr>\n",
       "    <tr>\n",
       "      <th>3</th>\n",
       "      <td>7795-CFOCW</td>\n",
       "      <td>Male</td>\n",
       "      <td>0</td>\n",
       "      <td>No</td>\n",
       "      <td>No</td>\n",
       "      <td>45</td>\n",
       "      <td>No</td>\n",
       "      <td>No phone service</td>\n",
       "      <td>DSL</td>\n",
       "      <td>Yes</td>\n",
       "      <td>...</td>\n",
       "      <td>Yes</td>\n",
       "      <td>Yes</td>\n",
       "      <td>No</td>\n",
       "      <td>No</td>\n",
       "      <td>One year</td>\n",
       "      <td>No</td>\n",
       "      <td>Bank transfer (automatic)</td>\n",
       "      <td>42.30</td>\n",
       "      <td>1840.75</td>\n",
       "      <td>No</td>\n",
       "    </tr>\n",
       "    <tr>\n",
       "      <th>4</th>\n",
       "      <td>9237-HQITU</td>\n",
       "      <td>Female</td>\n",
       "      <td>0</td>\n",
       "      <td>No</td>\n",
       "      <td>No</td>\n",
       "      <td>2</td>\n",
       "      <td>Yes</td>\n",
       "      <td>No</td>\n",
       "      <td>Fiber optic</td>\n",
       "      <td>No</td>\n",
       "      <td>...</td>\n",
       "      <td>No</td>\n",
       "      <td>No</td>\n",
       "      <td>No</td>\n",
       "      <td>No</td>\n",
       "      <td>Month-to-month</td>\n",
       "      <td>Yes</td>\n",
       "      <td>Electronic check</td>\n",
       "      <td>70.70</td>\n",
       "      <td>151.65</td>\n",
       "      <td>Yes</td>\n",
       "    </tr>\n",
       "  </tbody>\n",
       "</table>\n",
       "<p>5 rows × 21 columns</p>\n",
       "</div>"
      ],
      "text/plain": [
       "   customerID  gender  SeniorCitizen Partner Dependents  tenure PhoneService  \\\n",
       "0  7590-VHVEG  Female              0     Yes         No       1           No   \n",
       "1  5575-GNVDE    Male              0      No         No      34          Yes   \n",
       "2  3668-QPYBK    Male              0      No         No       2          Yes   \n",
       "3  7795-CFOCW    Male              0      No         No      45           No   \n",
       "4  9237-HQITU  Female              0      No         No       2          Yes   \n",
       "\n",
       "      MultipleLines InternetService OnlineSecurity  ... DeviceProtection  \\\n",
       "0  No phone service             DSL             No  ...               No   \n",
       "1                No             DSL            Yes  ...              Yes   \n",
       "2                No             DSL            Yes  ...               No   \n",
       "3  No phone service             DSL            Yes  ...              Yes   \n",
       "4                No     Fiber optic             No  ...               No   \n",
       "\n",
       "  TechSupport StreamingTV StreamingMovies        Contract PaperlessBilling  \\\n",
       "0          No          No              No  Month-to-month              Yes   \n",
       "1          No          No              No        One year               No   \n",
       "2          No          No              No  Month-to-month              Yes   \n",
       "3         Yes          No              No        One year               No   \n",
       "4          No          No              No  Month-to-month              Yes   \n",
       "\n",
       "               PaymentMethod MonthlyCharges  TotalCharges Churn  \n",
       "0           Electronic check          29.85         29.85    No  \n",
       "1               Mailed check          56.95        1889.5    No  \n",
       "2               Mailed check          53.85        108.15   Yes  \n",
       "3  Bank transfer (automatic)          42.30       1840.75    No  \n",
       "4           Electronic check          70.70        151.65   Yes  \n",
       "\n",
       "[5 rows x 21 columns]"
      ]
     },
     "execution_count": 2,
     "metadata": {},
     "output_type": "execute_result"
    }
   ],
   "source": [
    "df = pd.read_csv('../data/raw/TelcoCustomerChurnPrediction.csv')\n",
    "df.head()"
   ]
  },
  {
   "cell_type": "markdown",
   "id": "9574a00f",
   "metadata": {},
   "source": [
    "## 3. Data Type Analysis"
   ]
  },
  {
   "cell_type": "code",
   "execution_count": 3,
   "id": "d3614e41",
   "metadata": {},
   "outputs": [
    {
     "name": "stdout",
     "output_type": "stream",
     "text": [
      "<class 'pandas.core.frame.DataFrame'>\n",
      "RangeIndex: 7043 entries, 0 to 7042\n",
      "Data columns (total 21 columns):\n",
      " #   Column            Non-Null Count  Dtype  \n",
      "---  ------            --------------  -----  \n",
      " 0   customerID        7043 non-null   object \n",
      " 1   gender            7043 non-null   object \n",
      " 2   SeniorCitizen     7043 non-null   int64  \n",
      " 3   Partner           7043 non-null   object \n",
      " 4   Dependents        7043 non-null   object \n",
      " 5   tenure            7043 non-null   int64  \n",
      " 6   PhoneService      7043 non-null   object \n",
      " 7   MultipleLines     7043 non-null   object \n",
      " 8   InternetService   7043 non-null   object \n",
      " 9   OnlineSecurity    7043 non-null   object \n",
      " 10  OnlineBackup      7043 non-null   object \n",
      " 11  DeviceProtection  7043 non-null   object \n",
      " 12  TechSupport       7043 non-null   object \n",
      " 13  StreamingTV       7043 non-null   object \n",
      " 14  StreamingMovies   7043 non-null   object \n",
      " 15  Contract          7043 non-null   object \n",
      " 16  PaperlessBilling  7043 non-null   object \n",
      " 17  PaymentMethod     7043 non-null   object \n",
      " 18  MonthlyCharges    7043 non-null   float64\n",
      " 19  TotalCharges      7043 non-null   object \n",
      " 20  Churn             7043 non-null   object \n",
      "dtypes: float64(1), int64(2), object(18)\n",
      "memory usage: 1.1+ MB\n"
     ]
    }
   ],
   "source": [
    "df.info()"
   ]
  },
  {
   "cell_type": "markdown",
   "id": "8c8dc88c",
   "metadata": {},
   "source": [
    "### 3.1 Numerical & Categorical Data"
   ]
  },
  {
   "cell_type": "code",
   "execution_count": 4,
   "id": "c2c87ff0",
   "metadata": {},
   "outputs": [
    {
     "name": "stdout",
     "output_type": "stream",
     "text": [
      "Number of Numerical Variables: 3\n",
      "Number of Categorical Variables: 15\n"
     ]
    }
   ],
   "source": [
    "numerical_variables = [\n",
    "                        'MonthlyCharges', 'TotalCharges', 'tenure'\n",
    "                      ]\n",
    "\n",
    "categorical_variables = [\n",
    "                            'gender', 'SeniorCitizen', 'Partner', 'Dependents', 'PhoneService', 'MultipleLines',\n",
    "                            'InternetService', 'OnlineSecurity', 'DeviceProtection', 'TechSupport', 'StreamingTV',\n",
    "                            'StreamingMovies', 'Contract', 'PaperlessBilling', 'PaymentMethod'\n",
    "                        ]\n",
    "\n",
    "print(f\"Number of Numerical Variables: {len(numerical_variables)}\")\n",
    "print(f\"Number of Categorical Variables: {len(categorical_variables)}\")"
   ]
  },
  {
   "cell_type": "code",
   "execution_count": 5,
   "id": "18c4a85f",
   "metadata": {},
   "outputs": [
    {
     "name": "stdout",
     "output_type": "stream",
     "text": [
      "\n",
      " ---Number of Numerical Items \n",
      "MonthlyCharges    7043\n",
      "TotalCharges      7043\n",
      "tenure            7043\n",
      "dtype: int64\n",
      "\n",
      " ---Number of categorical Items \n",
      "gender              7043\n",
      "SeniorCitizen       7043\n",
      "Partner             7043\n",
      "Dependents          7043\n",
      "PhoneService        7043\n",
      "MultipleLines       7043\n",
      "InternetService     7043\n",
      "OnlineSecurity      7043\n",
      "DeviceProtection    7043\n",
      "TechSupport         7043\n",
      "StreamingTV         7043\n",
      "StreamingMovies     7043\n",
      "Contract            7043\n",
      "PaperlessBilling    7043\n",
      "PaymentMethod       7043\n",
      "dtype: int64\n"
     ]
    }
   ],
   "source": [
    "print(f\"\\n ---Number of Numerical Items \\n{df[numerical_variables].count()}\")\n",
    "print(f\"\\n ---Number of categorical Items \\n{df[categorical_variables].count()}\")"
   ]
  },
  {
   "cell_type": "markdown",
   "id": "162e729b",
   "metadata": {},
   "source": [
    "### 3.2 Nominal & Ordinal Data"
   ]
  },
  {
   "cell_type": "code",
   "execution_count": 6,
   "id": "14d32a4e",
   "metadata": {},
   "outputs": [
    {
     "name": "stdout",
     "output_type": "stream",
     "text": [
      "Number of Nominal Variables: 12\n",
      "Number of Categorical Variables: 1\n"
     ]
    }
   ],
   "source": [
    "nominal_variables = [\n",
    "                        'gender', 'SeniorCitizen', 'Partner', 'PhoneService', 'Dependents',\n",
    "                        'OnlineSecurity', 'DeviceProtection', 'TechSupport', 'StreamingTV',\n",
    "                        'StreamingMovies', 'PaperlessBilling', 'PaymentMethod',\n",
    "\n",
    "                    ]\n",
    "\n",
    "ordinal_variables = [\n",
    "                        'Contract', \n",
    "                    ]\n",
    "print(f\"Number of Nominal Variables: {len(nominal_variables)}\")\n",
    "print(f\"Number of Categorical Variables: {len(ordinal_variables)}\")"
   ]
  },
  {
   "cell_type": "code",
   "execution_count": 7,
   "id": "d59fafca",
   "metadata": {},
   "outputs": [
    {
     "name": "stdout",
     "output_type": "stream",
     "text": [
      "\n",
      " ---Number of Nominal Items \n",
      "gender              7043\n",
      "SeniorCitizen       7043\n",
      "Partner             7043\n",
      "PhoneService        7043\n",
      "Dependents          7043\n",
      "OnlineSecurity      7043\n",
      "DeviceProtection    7043\n",
      "TechSupport         7043\n",
      "StreamingTV         7043\n",
      "StreamingMovies     7043\n",
      "PaperlessBilling    7043\n",
      "PaymentMethod       7043\n",
      "dtype: int64\n",
      "\n",
      " ---Number of Ordinal Items \n",
      "Contract    7043\n",
      "dtype: int64\n"
     ]
    }
   ],
   "source": [
    "print(f\"\\n ---Number of Nominal Items \\n{df[nominal_variables].count()}\")\n",
    "print(f\"\\n ---Number of Ordinal Items \\n{df[ordinal_variables].count()}\")"
   ]
  },
  {
   "cell_type": "markdown",
   "id": "2bf284e1",
   "metadata": {},
   "source": [
    "### 3.3 Continuos & Discrete Data"
   ]
  },
  {
   "cell_type": "code",
   "execution_count": 8,
   "id": "dcee1767",
   "metadata": {},
   "outputs": [
    {
     "name": "stdout",
     "output_type": "stream",
     "text": [
      "Number of Continuous Variables: 2\n",
      "Number of Discrete Variables: 1\n"
     ]
    }
   ],
   "source": [
    "continuous_variables =  [\n",
    "                            'MonthlyCharges', 'TotalCharges'\n",
    "                        ]\n",
    "discete_variables = [\n",
    "                        'tenure'\n",
    "                    ]\n",
    "print(f\"Number of Continuous Variables: {len(continuous_variables)}\")\n",
    "print(f\"Number of Discrete Variables: {len(discete_variables)}\")"
   ]
  },
  {
   "cell_type": "code",
   "execution_count": 9,
   "id": "68b6b72b",
   "metadata": {},
   "outputs": [
    {
     "name": "stdout",
     "output_type": "stream",
     "text": [
      "\n",
      " ---Number of Continuous Items \n",
      "MonthlyCharges    7043\n",
      "TotalCharges      7043\n",
      "dtype: int64\n",
      "\n",
      " ---Number of Discrete Items \n",
      "tenure    7043\n",
      "dtype: int64\n"
     ]
    }
   ],
   "source": [
    "print(f\"\\n ---Number of Continuous Items \\n{df[continuous_variables].count()}\")\n",
    "print(f\"\\n ---Number of Discrete Items \\n{df[discete_variables].count()}\")"
   ]
  },
  {
   "cell_type": "markdown",
   "id": "a3598e23",
   "metadata": {},
   "source": [
    "## 4. Missing Values Analysis"
   ]
  },
  {
   "cell_type": "code",
   "execution_count": 10,
   "id": "499f7201",
   "metadata": {},
   "outputs": [
    {
     "data": {
      "text/plain": [
       "customerID          0\n",
       "gender              0\n",
       "SeniorCitizen       0\n",
       "Partner             0\n",
       "Dependents          0\n",
       "tenure              0\n",
       "PhoneService        0\n",
       "MultipleLines       0\n",
       "InternetService     0\n",
       "OnlineSecurity      0\n",
       "OnlineBackup        0\n",
       "DeviceProtection    0\n",
       "TechSupport         0\n",
       "StreamingTV         0\n",
       "StreamingMovies     0\n",
       "Contract            0\n",
       "PaperlessBilling    0\n",
       "PaymentMethod       0\n",
       "MonthlyCharges      0\n",
       "TotalCharges        0\n",
       "Churn               0\n",
       "dtype: int64"
      ]
     },
     "execution_count": 10,
     "metadata": {},
     "output_type": "execute_result"
    }
   ],
   "source": [
    "df.isnull().sum()"
   ]
  },
  {
   "cell_type": "markdown",
   "id": "514a538b",
   "metadata": {},
   "source": [
    "There is no missing values to handle"
   ]
  },
  {
   "cell_type": "markdown",
   "id": "41a48f03",
   "metadata": {},
   "source": [
    "## 5. Inconsistency Analysis\n"
   ]
  },
  {
   "cell_type": "code",
   "execution_count": 11,
   "id": "da8517c9",
   "metadata": {},
   "outputs": [
    {
     "data": {
      "text/plain": [
       "True"
      ]
     },
     "execution_count": 11,
     "metadata": {},
     "output_type": "execute_result"
    }
   ],
   "source": [
    "df['customerID'].is_unique"
   ]
  },
  {
   "cell_type": "markdown",
   "id": "b19b3b73",
   "metadata": {},
   "source": [
    "## 6. Target Variable Analysis"
   ]
  },
  {
   "cell_type": "code",
   "execution_count": 12,
   "id": "aa72eda6",
   "metadata": {},
   "outputs": [
    {
     "name": "stdout",
     "output_type": "stream",
     "text": [
      "Number of Churn customers: 1869\n",
      "Number of Churn customers: 5174\n",
      "Customer Churn Percentage: : 26.536987079369588 %\n"
     ]
    }
   ],
   "source": [
    "churn_customers = df['Churn'].value_counts()['Yes']\n",
    "non_churn_customers = df['Churn'].value_counts()['No']\n",
    "churn_rate = churn_customers / df['Churn'].count() * 100\n",
    "print(f\"Number of Churn customers: {churn_customers}\")\n",
    "print(f\"Number of Churn customers: {non_churn_customers}\")\n",
    "print(f\"Customer Churn Percentage: : {churn_rate} %\")"
   ]
  },
  {
   "cell_type": "code",
   "execution_count": 13,
   "id": "15ae6117",
   "metadata": {},
   "outputs": [
    {
     "data": {
      "image/png": "[encoded data removed]",
      "text/plain": [
       "<Figure size 700x500 with 1 Axes>"
      ]
     },
     "metadata": {},
     "output_type": "display_data"
    }
   ],
   "source": [
    "plt.figure(figsize=(7, 5))\n",
    "df[\"Churn\"].value_counts().plot(kind='bar')\n",
    "plt.title('Class Distribution')\n",
    "plt.xlabel('Class')\n",
    "plt.ylabel('Count')\n",
    "plt.show()\n"
   ]
  },
  {
   "cell_type": "markdown",
   "id": "e1b9f11a",
   "metadata": {},
   "source": [
    "There is Big class Imbalance in churn rate there is 3 times No rather than Yes's"
   ]
  },
  {
   "cell_type": "markdown",
   "id": "2cd55031",
   "metadata": {},
   "source": [
    "## 7. Feature Overview\n",
    "Categorize features into demographic, behavioral, and financial groups\n",
    "\n",
    "--- \n",
    "\n",
    "## **1. Demographic Features**\n",
    "\n",
    "**Definition:**\n",
    "Attributes that describe **who** the entity (often a person, customer, or organization) is, based on relatively stable, descriptive characteristics. These are usually **static or slow-changing** over time.\n",
    "\n",
    "**Examples:**\n",
    "\n",
    "* Age, gender, marital status\n",
    "* Education level, occupation\n",
    "* Geographic location (city, country, ZIP code)\n",
    "* Nationality, ethnicity (when ethically and legally collected)\n",
    "\n",
    "**Purpose in modeling:**\n",
    "\n",
    "* Used to segment populations, understand target audiences, and predict preferences or needs.\n",
    "* Often combined with behavioral and financial features for richer models.\n",
    "\n",
    "---\n",
    "\n",
    "## **2. Behavioral Features**\n",
    "\n",
    "**Definition:**\n",
    "Attributes that describe **what** the entity does — patterns of **actions, choices, and interactions** over time. These are usually **dynamic and time-sensitive**.\n",
    "\n",
    "**Examples:**\n",
    "\n",
    "* Website/app usage frequency\n",
    "* Product purchase history\n",
    "* Click-through rates on ads\n",
    "* Browsing patterns, search queries\n",
    "* Loyalty program engagement\n",
    "\n",
    "**Purpose in modeling:**\n",
    "\n",
    "* Capture **habits and tendencies** that are directly linked to outcomes like churn, conversions, or recommendations.\n",
    "* Particularly powerful for personalization and predictive analytics.\n",
    "\n",
    "---\n",
    "\n",
    "## **3. Financial Features**\n",
    "\n",
    "**Definition:**\n",
    "Attributes that describe the **economic status or monetary interactions** of the entity. These can be current values or historical patterns.\n",
    "\n",
    "**Examples:**\n",
    "\n",
    "* Income, salary range\n",
    "* Credit score, outstanding loans\n",
    "* Account balances, transaction history\n",
    "* Spending patterns, savings rate\n",
    "* Payment defaults or delays\n",
    "\n",
    "**Purpose in modeling:**\n",
    "\n",
    "* Predict creditworthiness, spending ability, and financial risk.\n",
    "* Often critical in banking, insurance, and e-commerce analytics.\n",
    "\n",
    "---\n",
    "\n",
    "💡 **Key differences in modeling context:**\n",
    "\n",
    "| Category        | Stability                | Data Source                   | Typical Use                            |\n",
    "| --------------- | ------------------------ | ----------------------------- | -------------------------------------- |\n",
    "| **Demographic** | Stable over months/years | Surveys, registration forms   | Segmentation, baseline profiling       |\n",
    "| **Behavioral**  | Changes frequently       | Activity logs, event tracking | Engagement prediction, personalization |\n",
    "| **Financial**   | Medium to dynamic        | Banking data, payment systems | Risk assessment, revenue prediction    |\n",
    "\n",
    "---"
   ]
  },
  {
   "cell_type": "code",
   "execution_count": 14,
   "id": "a2d4e049",
   "metadata": {},
   "outputs": [
    {
     "data": {
      "text/html": [
       "<div>\n",
       "<style scoped>\n",
       "    .dataframe tbody tr th:only-of-type {\n",
       "        vertical-align: middle;\n",
       "    }\n",
       "\n",
       "    .dataframe tbody tr th {\n",
       "        vertical-align: top;\n",
       "    }\n",
       "\n",
       "    .dataframe thead th {\n",
       "        text-align: right;\n",
       "    }\n",
       "</style>\n",
       "<table border=\"1\" class=\"dataframe\">\n",
       "  <thead>\n",
       "    <tr style=\"text-align: right;\">\n",
       "      <th></th>\n",
       "      <th>customerID</th>\n",
       "      <th>gender</th>\n",
       "      <th>SeniorCitizen</th>\n",
       "      <th>Partner</th>\n",
       "      <th>Dependents</th>\n",
       "      <th>tenure</th>\n",
       "      <th>PhoneService</th>\n",
       "      <th>MultipleLines</th>\n",
       "      <th>InternetService</th>\n",
       "      <th>OnlineSecurity</th>\n",
       "      <th>...</th>\n",
       "      <th>DeviceProtection</th>\n",
       "      <th>TechSupport</th>\n",
       "      <th>StreamingTV</th>\n",
       "      <th>StreamingMovies</th>\n",
       "      <th>Contract</th>\n",
       "      <th>PaperlessBilling</th>\n",
       "      <th>PaymentMethod</th>\n",
       "      <th>MonthlyCharges</th>\n",
       "      <th>TotalCharges</th>\n",
       "      <th>Churn</th>\n",
       "    </tr>\n",
       "  </thead>\n",
       "  <tbody>\n",
       "    <tr>\n",
       "      <th>0</th>\n",
       "      <td>7590-VHVEG</td>\n",
       "      <td>Female</td>\n",
       "      <td>0</td>\n",
       "      <td>Yes</td>\n",
       "      <td>No</td>\n",
       "      <td>1</td>\n",
       "      <td>No</td>\n",
       "      <td>No phone service</td>\n",
       "      <td>DSL</td>\n",
       "      <td>No</td>\n",
       "      <td>...</td>\n",
       "      <td>No</td>\n",
       "      <td>No</td>\n",
       "      <td>No</td>\n",
       "      <td>No</td>\n",
       "      <td>Month-to-month</td>\n",
       "      <td>Yes</td>\n",
       "      <td>Electronic check</td>\n",
       "      <td>29.85</td>\n",
       "      <td>29.85</td>\n",
       "      <td>No</td>\n",
       "    </tr>\n",
       "    <tr>\n",
       "      <th>1</th>\n",
       "      <td>5575-GNVDE</td>\n",
       "      <td>Male</td>\n",
       "      <td>0</td>\n",
       "      <td>No</td>\n",
       "      <td>No</td>\n",
       "      <td>34</td>\n",
       "      <td>Yes</td>\n",
       "      <td>No</td>\n",
       "      <td>DSL</td>\n",
       "      <td>Yes</td>\n",
       "      <td>...</td>\n",
       "      <td>Yes</td>\n",
       "      <td>No</td>\n",
       "      <td>No</td>\n",
       "      <td>No</td>\n",
       "      <td>One year</td>\n",
       "      <td>No</td>\n",
       "      <td>Mailed check</td>\n",
       "      <td>56.95</td>\n",
       "      <td>1889.5</td>\n",
       "      <td>No</td>\n",
       "    </tr>\n",
       "    <tr>\n",
       "      <th>2</th>\n",
       "      <td>3668-QPYBK</td>\n",
       "      <td>Male</td>\n",
       "      <td>0</td>\n",
       "      <td>No</td>\n",
       "      <td>No</td>\n",
       "      <td>2</td>\n",
       "      <td>Yes</td>\n",
       "      <td>No</td>\n",
       "      <td>DSL</td>\n",
       "      <td>Yes</td>\n",
       "      <td>...</td>\n",
       "      <td>No</td>\n",
       "      <td>No</td>\n",
       "      <td>No</td>\n",
       "      <td>No</td>\n",
       "      <td>Month-to-month</td>\n",
       "      <td>Yes</td>\n",
       "      <td>Mailed check</td>\n",
       "      <td>53.85</td>\n",
       "      <td>108.15</td>\n",
       "      <td>Yes</td>\n",
       "    </tr>\n",
       "    <tr>\n",
       "      <th>3</th>\n",
       "      <td>7795-CFOCW</td>\n",
       "      <td>Male</td>\n",
       "      <td>0</td>\n",
       "      <td>No</td>\n",
       "      <td>No</td>\n",
       "      <td>45</td>\n",
       "      <td>No</td>\n",
       "      <td>No phone service</td>\n",
       "      <td>DSL</td>\n",
       "      <td>Yes</td>\n",
       "      <td>...</td>\n",
       "      <td>Yes</td>\n",
       "      <td>Yes</td>\n",
       "      <td>No</td>\n",
       "      <td>No</td>\n",
       "      <td>One year</td>\n",
       "      <td>No</td>\n",
       "      <td>Bank transfer (automatic)</td>\n",
       "      <td>42.30</td>\n",
       "      <td>1840.75</td>\n",
       "      <td>No</td>\n",
       "    </tr>\n",
       "    <tr>\n",
       "      <th>4</th>\n",
       "      <td>9237-HQITU</td>\n",
       "      <td>Female</td>\n",
       "      <td>0</td>\n",
       "      <td>No</td>\n",
       "      <td>No</td>\n",
       "      <td>2</td>\n",
       "      <td>Yes</td>\n",
       "      <td>No</td>\n",
       "      <td>Fiber optic</td>\n",
       "      <td>No</td>\n",
       "      <td>...</td>\n",
       "      <td>No</td>\n",
       "      <td>No</td>\n",
       "      <td>No</td>\n",
       "      <td>No</td>\n",
       "      <td>Month-to-month</td>\n",
       "      <td>Yes</td>\n",
       "      <td>Electronic check</td>\n",
       "      <td>70.70</td>\n",
       "      <td>151.65</td>\n",
       "      <td>Yes</td>\n",
       "    </tr>\n",
       "  </tbody>\n",
       "</table>\n",
       "<p>5 rows × 21 columns</p>\n",
       "</div>"
      ],
      "text/plain": [
       "   customerID  gender  SeniorCitizen Partner Dependents  tenure PhoneService  \\\n",
       "0  7590-VHVEG  Female              0     Yes         No       1           No   \n",
       "1  5575-GNVDE    Male              0      No         No      34          Yes   \n",
       "2  3668-QPYBK    Male              0      No         No       2          Yes   \n",
       "3  7795-CFOCW    Male              0      No         No      45           No   \n",
       "4  9237-HQITU  Female              0      No         No       2          Yes   \n",
       "\n",
       "      MultipleLines InternetService OnlineSecurity  ... DeviceProtection  \\\n",
       "0  No phone service             DSL             No  ...               No   \n",
       "1                No             DSL            Yes  ...              Yes   \n",
       "2                No             DSL            Yes  ...               No   \n",
       "3  No phone service             DSL            Yes  ...              Yes   \n",
       "4                No     Fiber optic             No  ...               No   \n",
       "\n",
       "  TechSupport StreamingTV StreamingMovies        Contract PaperlessBilling  \\\n",
       "0          No          No              No  Month-to-month              Yes   \n",
       "1          No          No              No        One year               No   \n",
       "2          No          No              No  Month-to-month              Yes   \n",
       "3         Yes          No              No        One year               No   \n",
       "4          No          No              No  Month-to-month              Yes   \n",
       "\n",
       "               PaymentMethod MonthlyCharges  TotalCharges Churn  \n",
       "0           Electronic check          29.85         29.85    No  \n",
       "1               Mailed check          56.95        1889.5    No  \n",
       "2               Mailed check          53.85        108.15   Yes  \n",
       "3  Bank transfer (automatic)          42.30       1840.75    No  \n",
       "4           Electronic check          70.70        151.65   Yes  \n",
       "\n",
       "[5 rows x 21 columns]"
      ]
     },
     "execution_count": 14,
     "metadata": {},
     "output_type": "execute_result"
    }
   ],
   "source": [
    "df.head()"
   ]
  },
  {
   "cell_type": "code",
   "execution_count": null,
   "id": "5ae6b5f3",
   "metadata": {},
   "outputs": [],
   "source": [
    "demographic_features = [\n",
    "                            \"gender\", \"SeniorCitizen\", \"Partner\", \"Dependents\"\n",
    "                       ]\n",
    "\n",
    "behavioral_features = [\n",
    "                            \"tenure\", \"PhoneService\", \"MultipleLines\", \"InternetService\", \"OnlineSecurity\"\n",
    "                            \"DeviceProtection\", \"TechSupport\", \"StreamingTV\", \"StreamingMovies\", \"Contract\", \"PaperlessBilling\"\n",
    "                      ]\n",
    "financial_features = [\n",
    "                            \"PaymentMethod\", \"MonthlyCharges\", \"TotalCharges\"\n",
    "                     ]"
   ]
  }
 ],
 "metadata": {
  "kernelspec": {
   "display_name": "tfenv",
   "language": "python",
   "name": "python3"
  },
  "language_info": {
   "codemirror_mode": {
    "name": "ipython",
    "version": 3
   },
   "file_extension": ".py",
   "mimetype": "text/x-python",
   "name": "python",
   "nbconvert_exporter": "python",
   "pygments_lexer": "ipython3",
   "version": "3.10.18"
  }
 },
 "nbformat": 4,
 "nbformat_minor": 5
}
