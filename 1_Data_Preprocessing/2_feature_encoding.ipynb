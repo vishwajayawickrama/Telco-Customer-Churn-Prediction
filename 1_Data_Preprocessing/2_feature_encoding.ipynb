{
 "cells": [
  {
   "cell_type": "markdown",
   "id": "2226418c",
   "metadata": {},
   "source": [
    "# Feature Encoding"
   ]
  },
  {
   "cell_type": "markdown",
   "id": "b8faee39",
   "metadata": {},
   "source": []
  }
 ],
 "metadata": {
  "language_info": {
   "name": "python"
  }
 },
 "nbformat": 4,
 "nbformat_minor": 5
}
