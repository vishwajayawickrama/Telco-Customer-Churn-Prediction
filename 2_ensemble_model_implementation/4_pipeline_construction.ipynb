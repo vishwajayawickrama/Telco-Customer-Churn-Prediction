{
 "cells": [
  {
   "cell_type": "markdown",
   "id": "e8b7c926",
   "metadata": {},
   "source": [
    "# Pipeline Construction\n"
   ]
  },
  {
   "cell_type": "markdown",
   "id": "1893b629",
   "metadata": {},
   "source": [
    "### 1. Import libraries\n"
   ]
  },
  {
   "cell_type": "code",
   "execution_count": 13,
   "id": "ba59d44e",
   "metadata": {},
   "outputs": [],
   "source": [
    "from sklearn.pipeline import Pipeline\n",
    "from sklearn.compose import ColumnTransformer\n",
    "from sklearn.preprocessing import StandardScaler, OneHotEncoder, OrdinalEncoder\n",
    "from sklearn.model_selection import train_test_split, StratifiedKFold, GridSearchCV\n",
    "from sklearn.model_selection import StratifiedKFold, cross_val_score\n",
    "from sklearn.metrics import classification_report, confusion_matrix\n",
    "from sklearn.ensemble import RandomForestClassifier\n",
    "from catboost import CatBoostClassifier\n",
    "import pandas as pd"
   ]
  },
  {
   "cell_type": "markdown",
   "id": "db8537b8",
   "metadata": {},
   "source": [
    "### 2. Import Dataset"
   ]
  },
  {
   "cell_type": "code",
   "execution_count": 15,
   "id": "fecbe84b",
   "metadata": {},
   "outputs": [],
   "source": [
    "df = pd.read_csv('../data/processed/TelcoCustomerChurnPredictionFeatureEngineered.csv')"
   ]
  },
  {
   "cell_type": "code",
   "execution_count": 16,
   "id": "86ca5000",
   "metadata": {},
   "outputs": [],
   "source": [
    "X = X = df.drop(columns=[\"Churn\"])\n",
    "Y = df[\"Churn\"].map({\"Yes\" : 1, \"No\": 0})"
   ]
  },
  {
   "cell_type": "code",
   "execution_count": 17,
   "id": "31e21643",
   "metadata": {},
   "outputs": [],
   "source": [
    "X_train, X_test, y_train, y_test = train_test_split(X, Y, test_size=0.2, random_state=42, stratify=Y)"
   ]
  },
  {
   "cell_type": "code",
   "execution_count": 18,
   "id": "79ceb0ce",
   "metadata": {},
   "outputs": [],
   "source": [
    "# Define categorical & numerical features\n",
    "nominal_features = [\n",
    "                        'gender', 'SeniorCitizen', 'Partner', 'PhoneService', 'Dependents',\n",
    "                        'OnlineSecurity', 'DeviceProtection', 'TechSupport', 'StreamingTV',\n",
    "                        'StreamingMovies', 'PaperlessBilling', 'PaymentMethod', \"InternetService\",\t\n",
    "                        'OnlineBackup', 'MultipleLines', 'tenure_binns', 'PaymentMethodRisk', 'isPayementReliable'\n",
    "                    ]\n",
    "ordinal_features = ['Contract']\n",
    "numerical_features = ['tenure', 'MonthlyCharges', 'TotalCharges', 'ServiceAdoptionScore', 'AvgMonthlyChargesPerService', ]"
   ]
  },
  {
   "cell_type": "code",
   "execution_count": 19,
   "id": "92ef3a7a",
   "metadata": {},
   "outputs": [],
   "source": [
    "# Define ColumnTransformer for preprocessing\n",
    "\n",
    "# Preprocessor for Random forest\n",
    "preprocessor_rfc = ColumnTransformer(\n",
    "    transformers=[\n",
    "        ('num', StandardScaler(), numerical_features),\n",
    "        ('cat', OneHotEncoder(drop='first', handle_unknown='ignore'), nominal_features),\n",
    "        ('ord', OrdinalEncoder(categories=[['Month-to-month','One year','Two year']]), ordinal_features)\n",
    "    ]\n",
    ")\n",
    "\n",
    "preprocessor_cat = ColumnTransformer(\n",
    "    transformers=[\n",
    "        ('num', StandardScaler(), numerical_features)\n",
    "    ],\n",
    "    remainder='passthrough'  # leave categorical features untouched\n",
    ")"
   ]
  },
  {
   "cell_type": "code",
   "execution_count": 24,
   "id": "27963422",
   "metadata": {},
   "outputs": [],
   "source": [
    "# Create pipeline with classifier\n",
    "pipeline_rfc = Pipeline(steps=[\n",
    "    ('preprocessor', preprocessor_rfc),\n",
    "    ('classifier', RandomForestClassifier(random_state=42))\n",
    "])\n",
    "\n",
    "pipeline_cat = Pipeline([\n",
    "    #('preprocessor', preprocessor_cat),\n",
    "    ('classifier', CatBoostClassifier(\n",
    "                                        random_seed=42,\n",
    "                                        verbose=0,\n",
    "                                        eval_metric='Accuracy'\n",
    "                                    ))\n",
    "])"
   ]
  },
  {
   "cell_type": "code",
   "execution_count": 25,
   "id": "da998182",
   "metadata": {},
   "outputs": [
    {
     "name": "stdout",
     "output_type": "stream",
     "text": [
      "Cross-validated Accuracy Scores for Random Forest: [0.77639752 0.77462289 0.80124224 0.78527063 0.80106572]\n",
      "Mean CV Accuracy for Random Forest: 0.787719798707961\n"
     ]
    }
   ],
   "source": [
    "# Cross-Validation Strategy\n",
    "cv = StratifiedKFold(n_splits=5, shuffle=True, random_state=42)\n",
    "\n",
    "scores_rfc = cross_val_score(pipeline_rfc, X_train, y_train, cv=cv, scoring='accuracy')\n",
    "print(\"Cross-validated Accuracy Scores for Random Forest:\", scores_rfc)\n",
    "print(\"Mean CV Accuracy for Random Forest:\", scores_rfc.mean())"
   ]
  },
  {
   "cell_type": "code",
   "execution_count": 27,
   "id": "15bbb62e",
   "metadata": {},
   "outputs": [
    {
     "name": "stdout",
     "output_type": "stream",
     "text": [
      "Best Parameters in Random Forest: {'classifier__max_depth': 10, 'classifier__max_features': 'log2', 'classifier__min_samples_split': 5, 'classifier__n_estimators': 200}\n",
      "Best CV Accuracy in Random Forest: 0.8001443654147117\n"
     ]
    }
   ],
   "source": [
    "# Hyperparameter Tuning\n",
    "\n",
    "param_grid_rfc = {\n",
    "    'classifier__n_estimators': [100, 200],\n",
    "    'classifier__max_depth': [5, 10, None],\n",
    "    'classifier__min_samples_split': [2, 5],\n",
    "    'classifier__max_features': ['sqrt', 'log2']\n",
    "}\n",
    "\n",
    "param_grid_cat = {\n",
    "    'classifier__depth': [4, 6, 8],\n",
    "    'classifier__learning_rate': [0.01, 0.05, 0.1],\n",
    "    'classifier__iterations': [200, 500, 1000],\n",
    "    'classifier__l2_leaf_reg': [1, 3, 5],\n",
    "    'classifier__subsample': [0.7, 0.8, 1.0]\n",
    "}\n",
    "\n",
    "grid_search_rfc = GridSearchCV(\n",
    "    estimator=pipeline_rfc,\n",
    "    param_grid=param_grid_rfc,\n",
    "    cv=cv,\n",
    "    scoring='accuracy',\n",
    "    n_jobs=-1,\n",
    "    verbose=False\n",
    ")\n",
    "\n",
    "grid_search_cat = GridSearchCV(\n",
    "    estimator=pipeline_cat,\n",
    "    param_grid=param_grid_cat,\n",
    "    cv=cv,\n",
    "    scoring='accuracy',\n",
    "    n_jobs=-1,\n",
    "    verbose=False\n",
    ")\n",
    "\n",
    "grid_search_rfc.fit(X_train, y_train)\n",
    "\n",
    "print(\"Best Parameters in Random Forest:\", grid_search_rfc.best_params_)\n",
    "print(\"Best CV Accuracy in Random Forest:\", grid_search_rfc.best_score_)\n"
   ]
  }
 ],
 "metadata": {
  "kernelspec": {
   "display_name": "tfenv",
   "language": "python",
   "name": "python3"
  },
  "language_info": {
   "codemirror_mode": {
    "name": "ipython",
    "version": 3
   },
   "file_extension": ".py",
   "mimetype": "text/x-python",
   "name": "python",
   "nbconvert_exporter": "python",
   "pygments_lexer": "ipython3",
   "version": "3.10.18"
  }
 },
 "nbformat": 4,
 "nbformat_minor": 5
}
